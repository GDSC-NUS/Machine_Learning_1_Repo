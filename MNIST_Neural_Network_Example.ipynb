{
  "nbformat": 4,
  "nbformat_minor": 0,
  "metadata": {
    "colab": {
      "name": "MNIST Neural Network Example",
      "provenance": [],
      "collapsed_sections": []
    },
    "kernelspec": {
      "name": "python3",
      "display_name": "Python 3"
    },
    "language_info": {
      "name": "python"
    }
  },
  "cells": [
    {
      "cell_type": "markdown",
      "metadata": {
        "id": "HNwwy5Yd2Ka_"
      },
      "source": [
        "# Importing Libraries\n",
        "\n"
      ]
    },
    {
      "cell_type": "code",
      "metadata": {
        "id": "WqXYZ5dzwtvv"
      },
      "source": [
        "#Import the libraries\n",
        "from keras.utils import np_utils\n",
        "import random\n",
        "import matplotlib.pyplot as plt\n",
        "from keras.models import Sequential\n",
        "from keras.layers import Dense\n",
        "import keras\n",
        "import numpy as np"
      ],
      "execution_count": null,
      "outputs": []
    },
    {
      "cell_type": "markdown",
      "metadata": {
        "id": "oBncOm5g90TQ"
      },
      "source": [
        "# Let's start off with something easy! \n",
        "Given points on a line, y = x, predict the y-value given an x-value"
      ]
    },
    {
      "cell_type": "code",
      "metadata": {
        "id": "MOG1jzwO-z35"
      },
      "source": [
        "# Get our x and y values\n",
        "x_values = np.array([0,1,2,3,4,5,6,8,9])\n",
        "y_values = np.array([0,1,2,3,4,5,6,8,9])\n"
      ],
      "execution_count": null,
      "outputs": []
    },
    {
      "cell_type": "code",
      "metadata": {
        "colab": {
          "base_uri": "https://localhost:8080/"
        },
        "id": "Bx2-nysF-1Of",
        "outputId": "d5db97d1-f9ed-4440-86e2-e29aee041228"
      },
      "source": [
        "# Prepare and train the model our model\n",
        "model = Sequential([Dense(units=1, input_shape=[1])])\n",
        "model.compile(optimizer='sgd', loss='mean_squared_error')\n",
        "# What are optimizers and loss?\n",
        "model.fit(x_values, y_values, epochs=25, verbose = 1)\n",
        "# What are epochs? How can we use them to help us?"
      ],
      "execution_count": null,
      "outputs": [
        {
          "output_type": "stream",
          "name": "stdout",
          "text": [
            "Epoch 1/25\n",
            "1/1 [==============================] - 0s 256ms/step - loss: 2.5396\n",
            "Epoch 2/25\n",
            "1/1 [==============================] - 0s 5ms/step - loss: 0.5422\n",
            "Epoch 3/25\n",
            "1/1 [==============================] - 0s 6ms/step - loss: 0.1162\n",
            "Epoch 4/25\n",
            "1/1 [==============================] - 0s 7ms/step - loss: 0.0254\n",
            "Epoch 5/25\n",
            "1/1 [==============================] - 0s 8ms/step - loss: 0.0060\n",
            "Epoch 6/25\n",
            "1/1 [==============================] - 0s 6ms/step - loss: 0.0019\n",
            "Epoch 7/25\n",
            "1/1 [==============================] - 0s 6ms/step - loss: 9.6381e-04\n",
            "Epoch 8/25\n",
            "1/1 [==============================] - 0s 8ms/step - loss: 7.6692e-04\n",
            "Epoch 9/25\n",
            "1/1 [==============================] - 0s 8ms/step - loss: 7.1794e-04\n",
            "Epoch 10/25\n",
            "1/1 [==============================] - 0s 6ms/step - loss: 7.0060e-04\n",
            "Epoch 11/25\n",
            "1/1 [==============================] - 0s 5ms/step - loss: 6.9010e-04\n",
            "Epoch 12/25\n",
            "1/1 [==============================] - 0s 7ms/step - loss: 6.8113e-04\n",
            "Epoch 13/25\n",
            "1/1 [==============================] - 0s 6ms/step - loss: 6.7257e-04\n",
            "Epoch 14/25\n",
            "1/1 [==============================] - 0s 8ms/step - loss: 6.6419e-04\n",
            "Epoch 15/25\n",
            "1/1 [==============================] - 0s 7ms/step - loss: 6.5593e-04\n",
            "Epoch 16/25\n",
            "1/1 [==============================] - 0s 7ms/step - loss: 6.4776e-04\n",
            "Epoch 17/25\n",
            "1/1 [==============================] - 0s 10ms/step - loss: 6.3970e-04\n",
            "Epoch 18/25\n",
            "1/1 [==============================] - 0s 4ms/step - loss: 6.3175e-04\n",
            "Epoch 19/25\n",
            "1/1 [==============================] - 0s 6ms/step - loss: 6.2389e-04\n",
            "Epoch 20/25\n",
            "1/1 [==============================] - 0s 4ms/step - loss: 6.1613e-04\n",
            "Epoch 21/25\n",
            "1/1 [==============================] - 0s 6ms/step - loss: 6.0846e-04\n",
            "Epoch 22/25\n",
            "1/1 [==============================] - 0s 7ms/step - loss: 6.0090e-04\n",
            "Epoch 23/25\n",
            "1/1 [==============================] - 0s 5ms/step - loss: 5.9342e-04\n",
            "Epoch 24/25\n",
            "1/1 [==============================] - 0s 5ms/step - loss: 5.8604e-04\n",
            "Epoch 25/25\n",
            "1/1 [==============================] - 0s 5ms/step - loss: 5.7875e-04\n"
          ]
        },
        {
          "output_type": "execute_result",
          "data": {
            "text/plain": [
              "<keras.callbacks.History at 0x7f6cd7fa28d0>"
            ]
          },
          "metadata": {},
          "execution_count": 8
        }
      ]
    },
    {
      "cell_type": "code",
      "metadata": {
        "colab": {
          "base_uri": "https://localhost:8080/"
        },
        "id": "rv2uHfu7AmIi",
        "outputId": "3db4f5cf-32b0-4906-b48c-316eacfceb4a"
      },
      "source": [
        "prediction = model.predict([7])\n",
        "print(prediction)\n",
        "# This value is a little far off... how can we improve it?"
      ],
      "execution_count": null,
      "outputs": [
        {
          "output_type": "stream",
          "name": "stdout",
          "text": [
            "[[6.9940567]]\n"
          ]
        }
      ]
    },
    {
      "cell_type": "markdown",
      "metadata": {
        "id": "cS4SK1ur15HP"
      },
      "source": [
        "# Let's trying something more fun! \n",
        "\n",
        "We saw the visualisation for a Neural Network predicting handwritten digits. Let's try to build a simple one ourselves!"
      ]
    },
    {
      "cell_type": "markdown",
      "metadata": {
        "id": "u3sMomh02a1s"
      },
      "source": [
        "# Importing our data"
      ]
    },
    {
      "cell_type": "code",
      "metadata": {
        "id": "siafe3dQx8vg",
        "colab": {
          "base_uri": "https://localhost:8080/"
        },
        "outputId": "177584ae-62ea-4b2d-ee35-633525d4d057"
      },
      "source": [
        "# Import the data properly\n",
        "from keras.datasets import mnist\n",
        "from sklearn.model_selection import train_test_split\n",
        "(X_train, y_train), (X_test, y_test) = mnist.load_data()\n",
        "X_train, X_validate, y_train, y_validate = train_test_split(X_train, y_train, test_size = 0.2, random_state = 12345)"
      ],
      "execution_count": null,
      "outputs": [
        {
          "output_type": "stream",
          "name": "stdout",
          "text": [
            "Downloading data from https://storage.googleapis.com/tensorflow/tf-keras-datasets/mnist.npz\n",
            "11493376/11490434 [==============================] - 0s 0us/step\n",
            "11501568/11490434 [==============================] - 0s 0us/step\n"
          ]
        }
      ]
    },
    {
      "cell_type": "markdown",
      "metadata": {
        "id": "kXSIjY_Y9aZ9"
      },
      "source": [
        "#Understanding our Training and Test Data Work"
      ]
    },
    {
      "cell_type": "code",
      "metadata": {
        "colab": {
          "base_uri": "https://localhost:8080/"
        },
        "id": "8FsCR2Dq5clk",
        "outputId": "36924544-f21b-48c3-d0e8-ac6b4ecca8d5"
      },
      "source": [
        "X_train"
      ],
      "execution_count": null,
      "outputs": [
        {
          "output_type": "execute_result",
          "data": {
            "text/plain": [
              "array([[[0, 0, 0, ..., 0, 0, 0],\n",
              "        [0, 0, 0, ..., 0, 0, 0],\n",
              "        [0, 0, 0, ..., 0, 0, 0],\n",
              "        ...,\n",
              "        [0, 0, 0, ..., 0, 0, 0],\n",
              "        [0, 0, 0, ..., 0, 0, 0],\n",
              "        [0, 0, 0, ..., 0, 0, 0]],\n",
              "\n",
              "       [[0, 0, 0, ..., 0, 0, 0],\n",
              "        [0, 0, 0, ..., 0, 0, 0],\n",
              "        [0, 0, 0, ..., 0, 0, 0],\n",
              "        ...,\n",
              "        [0, 0, 0, ..., 0, 0, 0],\n",
              "        [0, 0, 0, ..., 0, 0, 0],\n",
              "        [0, 0, 0, ..., 0, 0, 0]],\n",
              "\n",
              "       [[0, 0, 0, ..., 0, 0, 0],\n",
              "        [0, 0, 0, ..., 0, 0, 0],\n",
              "        [0, 0, 0, ..., 0, 0, 0],\n",
              "        ...,\n",
              "        [0, 0, 0, ..., 0, 0, 0],\n",
              "        [0, 0, 0, ..., 0, 0, 0],\n",
              "        [0, 0, 0, ..., 0, 0, 0]],\n",
              "\n",
              "       ...,\n",
              "\n",
              "       [[0, 0, 0, ..., 0, 0, 0],\n",
              "        [0, 0, 0, ..., 0, 0, 0],\n",
              "        [0, 0, 0, ..., 0, 0, 0],\n",
              "        ...,\n",
              "        [0, 0, 0, ..., 0, 0, 0],\n",
              "        [0, 0, 0, ..., 0, 0, 0],\n",
              "        [0, 0, 0, ..., 0, 0, 0]],\n",
              "\n",
              "       [[0, 0, 0, ..., 0, 0, 0],\n",
              "        [0, 0, 0, ..., 0, 0, 0],\n",
              "        [0, 0, 0, ..., 0, 0, 0],\n",
              "        ...,\n",
              "        [0, 0, 0, ..., 0, 0, 0],\n",
              "        [0, 0, 0, ..., 0, 0, 0],\n",
              "        [0, 0, 0, ..., 0, 0, 0]],\n",
              "\n",
              "       [[0, 0, 0, ..., 0, 0, 0],\n",
              "        [0, 0, 0, ..., 0, 0, 0],\n",
              "        [0, 0, 0, ..., 0, 0, 0],\n",
              "        ...,\n",
              "        [0, 0, 0, ..., 0, 0, 0],\n",
              "        [0, 0, 0, ..., 0, 0, 0],\n",
              "        [0, 0, 0, ..., 0, 0, 0]]], dtype=uint8)"
            ]
          },
          "metadata": {},
          "execution_count": 11
        }
      ]
    },
    {
      "cell_type": "code",
      "metadata": {
        "colab": {
          "base_uri": "https://localhost:8080/"
        },
        "id": "Fus0RH4krPV0",
        "outputId": "8b7c6df7-cd54-48ce-adeb-cbf0734abff7"
      },
      "source": [
        "X_train[0]"
      ],
      "execution_count": null,
      "outputs": [
        {
          "output_type": "execute_result",
          "data": {
            "text/plain": [
              "array([[  0,   0,   0,   0,   0,   0,   0,   0,   0,   0,   0,   0,   0,\n",
              "          0,   0,   0,   0,   0,   0,   0,   0,   0,   0,   0,   0,   0,\n",
              "          0,   0],\n",
              "       [  0,   0,   0,   0,   0,   0,   0,   0,   0,   0,   0,   0,   0,\n",
              "          0,   0,   0,   0,   0,   0,   0,   0,   0,   0,   0,   0,   0,\n",
              "          0,   0],\n",
              "       [  0,   0,   0,   0,   0,   0,   0,   0,   0,   0,   0,   0,   0,\n",
              "          0,   0,   0,   0,   0,   0,   0,   0,   0,   0,   0,   0,   0,\n",
              "          0,   0],\n",
              "       [  0,   0,   0,   0,   0,   0,   0,   0,   0,   0,   0,   0,   0,\n",
              "          0,   0,   0,   0,   0,   0,   0,   0,   0,   0,   0,   0,   0,\n",
              "          0,   0],\n",
              "       [  0,   0,   0,   0,   0,   0,   0,   0,   0,   0,   0,   0,   0,\n",
              "          0,   0,   0,   0,   0,   0,   0,   0,   0,   0,   0,   0,   0,\n",
              "          0,   0],\n",
              "       [  0,   0,   0,   0,   0,   0,   0,   0,   0,   0,   0,   0,   0,\n",
              "          0,   0,   0,   0,  36, 212, 185,   0,   0,   0,   0,   0,   0,\n",
              "          0,   0],\n",
              "       [  0,   0,   0,   0,   0,   0,   0,   0,   0,   0,   0,   0,   0,\n",
              "          0,   0, 142, 243, 149, 254, 155,   0,   0,   0,   0,   0,   0,\n",
              "          0,   0],\n",
              "       [  0,   0,   0,   0,   0,   0,   0,   0,   0,   0,   0,   0,   0,\n",
              "         12, 156, 253, 174, 133, 254, 155,   0,   0,   0,   0,   0,   0,\n",
              "          0,   0],\n",
              "       [  0,   0,   0,   0,   0,   0,   0,   0,   0,   0,   0,   0,  12,\n",
              "        156, 254, 183,  26, 195, 254, 131,   0,   0,   0,   0,   0,   0,\n",
              "          0,   0],\n",
              "       [  0,   0,   0,   0,   0,   0,   0,   0,   0,   0,   0,  13, 156,\n",
              "        254, 182,  27,  47, 251, 244,  28,   0,   0,   0,   0,   0,   0,\n",
              "          0,   0],\n",
              "       [  0,   0,   0,   0,   0,   0,   0,   0,   0,   0,  13, 185, 254,\n",
              "        169,  11,   0, 113, 254, 157,   0,   0,   0,   0,   0,   0,   0,\n",
              "          0,   0],\n",
              "       [  0,   0,   0,   0,   0,   0,   0,   0,   0,  13, 185, 254, 211,\n",
              "         28,   0,   0, 190, 254, 131,   0,   0,   0,   0,   0,   0,   0,\n",
              "          0,   0],\n",
              "       [  0,   0,   0,   0,   0,   0,   0,   0,   0, 209, 254, 195,  15,\n",
              "          0,   0,  75, 248, 243,  30,   0,   0,   0,   0,   0,   0,   0,\n",
              "          0,   0],\n",
              "       [  0,   0,   0,   0,   0,   0,   0,  13, 207, 251, 254, 161, 134,\n",
              "        122,  48, 172, 254, 158,   0,   0,   0,   0,   0,   0,   0,   0,\n",
              "          0,   0],\n",
              "       [  0,   0,   0,   0,   0,   0,  12, 185, 254, 254, 254, 254, 254,\n",
              "        254, 254, 254, 254, 231, 125,  44,  28,   0,   0,   0,   0,   0,\n",
              "          0,   0],\n",
              "       [  0,   0,   0,   0,   0,  25, 156, 254, 245, 196,  83,  43,  43,\n",
              "         86, 129, 200, 254, 241, 254, 254, 239, 179,   0,   0,   0,   0,\n",
              "          0,   0],\n",
              "       [  0,   0,   0,   0,  23, 202, 254, 234, 138,   0,   0,   0,   0,\n",
              "          0,  17, 210, 251, 102,  47, 115, 220, 218,  28,   0,   0,   0,\n",
              "          0,   0],\n",
              "       [  0,   0,   0,  10, 234, 254, 254,  93,   0,   0,   0,   0,   0,\n",
              "          0,  82, 254, 228,   0,   0,   0,   0,   0,   0,   0,   0,   0,\n",
              "          0,   0],\n",
              "       [  0,   0,   0, 112, 254, 247, 123,   4,   0,   0,   0,   0,   0,\n",
              "          0,  65, 254, 199,   0,   0,   0,   0,   0,   0,   0,   0,   0,\n",
              "          0,   0],\n",
              "       [  0,   0,   0,  20, 145,  46,   0,   0,   0,   0,   0,   0,   0,\n",
              "          0,  94, 254, 169,   0,   0,   0,   0,   0,   0,   0,   0,   0,\n",
              "          0,   0],\n",
              "       [  0,   0,   0,   0,   0,   0,   0,   0,   0,   0,   0,   0,   0,\n",
              "          0, 158, 254, 164,   0,   0,   0,   0,   0,   0,   0,   0,   0,\n",
              "          0,   0],\n",
              "       [  0,   0,   0,   0,   0,   0,   0,   0,   0,   0,   0,   0,   0,\n",
              "         14, 171, 254, 113,   0,   0,   0,   0,   0,   0,   0,   0,   0,\n",
              "          0,   0],\n",
              "       [  0,   0,   0,   0,   0,   0,   0,   0,   0,   0,   0,   0,   0,\n",
              "         61, 241, 254, 110,   0,   0,   0,   0,   0,   0,   0,   0,   0,\n",
              "          0,   0],\n",
              "       [  0,   0,   0,   0,   0,   0,   0,   0,   0,   0,   0,   0,   0,\n",
              "         67, 255, 254,  55,   0,   0,   0,   0,   0,   0,   0,   0,   0,\n",
              "          0,   0],\n",
              "       [  0,   0,   0,   0,   0,   0,   0,   0,   0,   0,   0,   0,   0,\n",
              "         67, 254, 195,   0,   0,   0,   0,   0,   0,   0,   0,   0,   0,\n",
              "          0,   0],\n",
              "       [  0,   0,   0,   0,   0,   0,   0,   0,   0,   0,   0,   0,   0,\n",
              "          0,   0,   0,   0,   0,   0,   0,   0,   0,   0,   0,   0,   0,\n",
              "          0,   0],\n",
              "       [  0,   0,   0,   0,   0,   0,   0,   0,   0,   0,   0,   0,   0,\n",
              "          0,   0,   0,   0,   0,   0,   0,   0,   0,   0,   0,   0,   0,\n",
              "          0,   0],\n",
              "       [  0,   0,   0,   0,   0,   0,   0,   0,   0,   0,   0,   0,   0,\n",
              "          0,   0,   0,   0,   0,   0,   0,   0,   0,   0,   0,   0,   0,\n",
              "          0,   0]], dtype=uint8)"
            ]
          },
          "metadata": {},
          "execution_count": 12
        }
      ]
    },
    {
      "cell_type": "code",
      "metadata": {
        "colab": {
          "base_uri": "https://localhost:8080/",
          "height": 283
        },
        "id": "AHPW97EeuGc7",
        "outputId": "a9be1bd8-699e-4171-9557-af83b5ee610b"
      },
      "source": [
        "plt.imshow(X_train[0], cmap=\"gray\")"
      ],
      "execution_count": null,
      "outputs": [
        {
          "output_type": "execute_result",
          "data": {
            "text/plain": [
              "<matplotlib.image.AxesImage at 0x7f6cd477d450>"
            ]
          },
          "metadata": {},
          "execution_count": 13
        },
        {
          "output_type": "display_data",
          "data": {
            "image/png": "[encoded data removed]",
            "text/plain": [
              "<Figure size 432x288 with 1 Axes>"
            ]
          },
          "metadata": {
            "needs_background": "light"
          }
        }
      ]
    },
    {
      "cell_type": "code",
      "metadata": {
        "colab": {
          "base_uri": "https://localhost:8080/"
        },
        "id": "S7iyFigd5e5W",
        "outputId": "9803a27f-2066-4bda-df9d-737571b7099f"
      },
      "source": [
        "y_train"
      ],
      "execution_count": null,
      "outputs": [
        {
          "output_type": "execute_result",
          "data": {
            "text/plain": [
              "array([4, 7, 6, ..., 1, 8, 4], dtype=uint8)"
            ]
          },
          "metadata": {},
          "execution_count": 14
        }
      ]
    },
    {
      "cell_type": "markdown",
      "metadata": {
        "id": "wgfch4k0Ik6-"
      },
      "source": [
        "# Formatting our data"
      ]
    },
    {
      "cell_type": "code",
      "metadata": {
        "id": "BRs7bbFL1DM1"
      },
      "source": [
        "# Format data \n",
        "X_train = X_train.reshape(X_train.shape[0], 28 * 28)\n",
        "X_validate = X_validate.reshape(X_validate.shape[0], 28*28)\n",
        "X_test = X_test.reshape(X_test.shape[0], 28 * 28)"
      ],
      "execution_count": null,
      "outputs": []
    },
    {
      "cell_type": "code",
      "metadata": {
        "colab": {
          "base_uri": "https://localhost:8080/",
          "height": 281
        },
        "id": "jaWhpNVNzHFG",
        "outputId": "67cce9b8-a491-4b57-c5d5-c1b4fa6090f6"
      },
      "source": [
        "# Let's view some of the data!\n",
        "i = random.randint(1,48000)\n",
        "plt.imshow(X_train[i,0:].reshape((28,28))) \n",
        "label_index = y_train[i]\n",
        "plt.title(f\"{label_index}\")\n",
        "plt.axis('off')"
      ],
      "execution_count": null,
      "outputs": [
        {
          "output_type": "execute_result",
          "data": {
            "text/plain": [
              "(-0.5, 27.5, 27.5, -0.5)"
            ]
          },
          "metadata": {},
          "execution_count": 19
        },
        {
          "output_type": "display_data",
          "data": {
            "image/png": "[encoded data removed]",
            "text/plain": [
              "<Figure size 432x288 with 1 Axes>"
            ]
          },
          "metadata": {
            "needs_background": "light"
          }
        }
      ]
    },
    {
      "cell_type": "code",
      "metadata": {
        "id": "DeGQ9OZJ0kiE"
      },
      "source": [
        "# Normalization: Expressing them as fractions to make more sense of the values\n",
        "X_train = X_train/255\n",
        "X_test = X_test/255\n",
        "X_validate = X_validate/255"
      ],
      "execution_count": null,
      "outputs": []
    },
    {
      "cell_type": "code",
      "metadata": {
        "colab": {
          "base_uri": "https://localhost:8080/"
        },
        "id": "78TO00aIHriE",
        "outputId": "00cbc106-e81a-4b9d-ea4c-6d972a330e21"
      },
      "source": [
        "print(\"Shape of training data: \", X_train.shape)\n",
        "print(\"Shape of training labels: \", y_train.shape)\n",
        "print(\"Shape of test data: \", X_test.shape)\n",
        "print(\"Shape of test labels: \", y_test.shape)"
      ],
      "execution_count": null,
      "outputs": [
        {
          "output_type": "stream",
          "name": "stdout",
          "text": [
            "Shape of training data:  (48000, 784)\n",
            "Shape of training labels:  (48000,)\n",
            "Shape of test data:  (10000, 784)\n",
            "Shape of test labels:  (10000,)\n"
          ]
        }
      ]
    },
    {
      "cell_type": "markdown",
      "metadata": {
        "id": "OS0LdwOX5u4S"
      },
      "source": [
        "#Building the model"
      ]
    },
    {
      "cell_type": "code",
      "metadata": {
        "colab": {
          "base_uri": "https://localhost:8080/"
        },
        "id": "xKBgzOys5v24",
        "outputId": "3a5ccd61-0bcc-4449-c368-a9bbcc096ce6"
      },
      "source": [
        "image_size = 784 # 28*28\n",
        "num_classes = 10 # ten unique digits\n",
        "\n",
        "model = Sequential()\n",
        "\n",
        "# The input layer requires the special input_shape parameter which should match\n",
        "# the shape of our training data.\n",
        "model.add(Dense(units=32, activation='sigmoid', input_shape=(image_size,)))\n",
        "model.add(Dense(units=num_classes, activation='softmax'))\n",
        "model.summary()"
      ],
      "execution_count": null,
      "outputs": [
        {
          "output_type": "stream",
          "name": "stdout",
          "text": [
            "Model: \"sequential_3\"\n",
            "_________________________________________________________________\n",
            " Layer (type)                Output Shape              Param #   \n",
            "=================================================================\n",
            " dense_3 (Dense)             (None, 32)                25120     \n",
            "                                                                 \n",
            " dense_4 (Dense)             (None, 10)                330       \n",
            "                                                                 \n",
            "=================================================================\n",
            "Total params: 25,450\n",
            "Trainable params: 25,450\n",
            "Non-trainable params: 0\n",
            "_________________________________________________________________\n"
          ]
        }
      ]
    },
    {
      "cell_type": "code",
      "metadata": {
        "id": "_ruL7JeD5-RL"
      },
      "source": [
        "model.compile(optimizer='sgd', loss='sparse_categorical_crossentropy', metrics=['accuracy'])"
      ],
      "execution_count": null,
      "outputs": []
    },
    {
      "cell_type": "code",
      "metadata": {
        "colab": {
          "base_uri": "https://localhost:8080/"
        },
        "id": "EGvid-Lz6iqT",
        "outputId": "dd60f251-fc64-4451-a1b1-fd46f83b669d"
      },
      "source": [
        "model.fit(X_train, y_train, batch_size = 512, epochs = 20, verbose = 1, validation_data = (X_validate, y_validate))"
      ],
      "execution_count": null,
      "outputs": [
        {
          "output_type": "stream",
          "name": "stdout",
          "text": [
            "Epoch 1/20\n",
            "94/94 [==============================] - 1s 9ms/step - loss: 2.3003 - accuracy: 0.1740 - val_loss: 2.1959 - val_accuracy: 0.2972\n",
            "Epoch 2/20\n",
            "94/94 [==============================] - 1s 7ms/step - loss: 2.1411 - accuracy: 0.4287 - val_loss: 2.0941 - val_accuracy: 0.5078\n",
            "Epoch 3/20\n",
            "94/94 [==============================] - 1s 6ms/step - loss: 2.0516 - accuracy: 0.5537 - val_loss: 2.0116 - val_accuracy: 0.5828\n",
            "Epoch 4/20\n",
            "94/94 [==============================] - 1s 6ms/step - loss: 1.9715 - accuracy: 0.6099 - val_loss: 1.9336 - val_accuracy: 0.6196\n",
            "Epoch 5/20\n",
            "94/94 [==============================] - 1s 6ms/step - loss: 1.8945 - accuracy: 0.6341 - val_loss: 1.8578 - val_accuracy: 0.6417\n",
            "Epoch 6/20\n",
            "94/94 [==============================] - 1s 7ms/step - loss: 1.8198 - accuracy: 0.6496 - val_loss: 1.7845 - val_accuracy: 0.6567\n",
            "Epoch 7/20\n",
            "94/94 [==============================] - 1s 7ms/step - loss: 1.7476 - accuracy: 0.6653 - val_loss: 1.7136 - val_accuracy: 0.6711\n",
            "Epoch 8/20\n",
            "94/94 [==============================] - 1s 7ms/step - loss: 1.6781 - accuracy: 0.6778 - val_loss: 1.6455 - val_accuracy: 0.6828\n",
            "Epoch 9/20\n",
            "94/94 [==============================] - 1s 6ms/step - loss: 1.6115 - accuracy: 0.6891 - val_loss: 1.5806 - val_accuracy: 0.6946\n",
            "Epoch 10/20\n",
            "94/94 [==============================] - 1s 6ms/step - loss: 1.5481 - accuracy: 0.6991 - val_loss: 1.5188 - val_accuracy: 0.7057\n",
            "Epoch 11/20\n",
            "94/94 [==============================] - 1s 6ms/step - loss: 1.4879 - accuracy: 0.7086 - val_loss: 1.4603 - val_accuracy: 0.7191\n",
            "Epoch 12/20\n",
            "94/94 [==============================] - 1s 6ms/step - loss: 1.4312 - accuracy: 0.7217 - val_loss: 1.4052 - val_accuracy: 0.7283\n",
            "Epoch 13/20\n",
            "94/94 [==============================] - 1s 7ms/step - loss: 1.3778 - accuracy: 0.7309 - val_loss: 1.3535 - val_accuracy: 0.7400\n",
            "Epoch 14/20\n",
            "94/94 [==============================] - 1s 7ms/step - loss: 1.3277 - accuracy: 0.7423 - val_loss: 1.3050 - val_accuracy: 0.7473\n",
            "Epoch 15/20\n",
            "94/94 [==============================] - 1s 7ms/step - loss: 1.2809 - accuracy: 0.7518 - val_loss: 1.2597 - val_accuracy: 0.7573\n",
            "Epoch 16/20\n",
            "94/94 [==============================] - 1s 7ms/step - loss: 1.2371 - accuracy: 0.7601 - val_loss: 1.2173 - val_accuracy: 0.7673\n",
            "Epoch 17/20\n",
            "94/94 [==============================] - 1s 6ms/step - loss: 1.1962 - accuracy: 0.7689 - val_loss: 1.1779 - val_accuracy: 0.7748\n",
            "Epoch 18/20\n",
            "94/94 [==============================] - 1s 7ms/step - loss: 1.1581 - accuracy: 0.7764 - val_loss: 1.1410 - val_accuracy: 0.7818\n",
            "Epoch 19/20\n",
            "94/94 [==============================] - 1s 6ms/step - loss: 1.1225 - accuracy: 0.7825 - val_loss: 1.1065 - val_accuracy: 0.7887\n",
            "Epoch 20/20\n",
            "94/94 [==============================] - 1s 7ms/step - loss: 1.0892 - accuracy: 0.7888 - val_loss: 1.0742 - val_accuracy: 0.7945\n"
          ]
        },
        {
          "output_type": "execute_result",
          "data": {
            "text/plain": [
              "<keras.callbacks.History at 0x7f6cd1881b50>"
            ]
          },
          "metadata": {},
          "execution_count": 24
        }
      ]
    },
    {
      "cell_type": "code",
      "metadata": {
        "id": "LWkOTqtf65zG",
        "colab": {
          "base_uri": "https://localhost:8080/"
        },
        "outputId": "e734d1fe-62f3-4a81-eb4c-343de1ab1d6e"
      },
      "source": [
        "loss, accuracy  = model.evaluate(X_test, y_test, verbose=False)\n",
        "print(\"Accuracy:\", accuracy)"
      ],
      "execution_count": null,
      "outputs": [
        {
          "output_type": "stream",
          "name": "stdout",
          "text": [
            "Accuracy: 0.8026999831199646\n"
          ]
        }
      ]
    },
    {
      "cell_type": "code",
      "metadata": {
        "colab": {
          "base_uri": "https://localhost:8080/"
        },
        "id": "S6tISCGFGieE",
        "outputId": "82bea273-5267-44ec-cedb-972238bf3d36"
      },
      "source": [
        "# Let's see what our predictions are\n",
        "predictions = model.predict(X_test)\n",
        "predictions"
      ],
      "execution_count": null,
      "outputs": [
        {
          "output_type": "execute_result",
          "data": {
            "text/plain": [
              "array([[0.02319101, 0.02665153, 0.02045915, ..., 0.70007384, 0.0281197 ,\n",
              "        0.09939229],\n",
              "       [0.07071518, 0.0517729 , 0.2733952 , ..., 0.01032835, 0.07047815,\n",
              "        0.01594953],\n",
              "       [0.00735672, 0.68587434, 0.05673959, ..., 0.0574008 , 0.03729349,\n",
              "        0.02478608],\n",
              "       ...,\n",
              "       [0.01158808, 0.03129218, 0.02050285, ..., 0.08068188, 0.10450085,\n",
              "        0.26596686],\n",
              "       [0.05071502, 0.13137695, 0.06144365, ..., 0.08334415, 0.17542613,\n",
              "        0.08931399],\n",
              "       [0.09368339, 0.01040986, 0.13515979, ..., 0.0030798 , 0.01077648,\n",
              "        0.01741807]], dtype=float32)"
            ]
          },
          "metadata": {},
          "execution_count": 26
        }
      ]
    },
    {
      "cell_type": "code",
      "metadata": {
        "colab": {
          "base_uri": "https://localhost:8080/"
        },
        "id": "bdbqp56rHJ2k",
        "outputId": "8715b0f0-8160-4756-8dc7-0a78a4f79c8b"
      },
      "source": [
        "classes = np.argmax(predictions, axis=1)\n",
        "classes"
      ],
      "execution_count": null,
      "outputs": [
        {
          "output_type": "execute_result",
          "data": {
            "text/plain": [
              "array([7, 2, 1, ..., 4, 8, 6])"
            ]
          },
          "metadata": {},
          "execution_count": 27
        }
      ]
    },
    {
      "cell_type": "code",
      "metadata": {
        "colab": {
          "base_uri": "https://localhost:8080/",
          "height": 281
        },
        "id": "6dbH1MDIP_XL",
        "outputId": "d835ce60-35e3-4b50-df17-2ae54a41c875"
      },
      "source": [
        "# Let's visualise our predictions!\n",
        "i = random.randint(1,10000)\n",
        "plt.imshow(X_test[i,0:].reshape((28,28))) \n",
        "label_index = classes[i]\n",
        "plt.title(f\"Predicted: {label_index}, Actual: {np.argmax(y_test[i])}\")\n",
        "plt.axis('off')"
      ],
      "execution_count": null,
      "outputs": [
        {
          "output_type": "execute_result",
          "data": {
            "text/plain": [
              "(-0.5, 27.5, 27.5, -0.5)"
            ]
          },
          "metadata": {},
          "execution_count": 36
        },
        {
          "output_type": "display_data",
          "data": {
            "image/png": "[encoded data removed]",
            "text/plain": [
              "<Figure size 432x288 with 1 Axes>"
            ]
          },
          "metadata": {
            "needs_background": "light"
          }
        }
      ]
    }
  ]
}